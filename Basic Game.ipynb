{
 "cells": [
  {
   "cell_type": "markdown",
   "metadata": {},
   "source": [
    "This is the first file in my attempt to create a tic-tac-toe five in a row game and have the computer play it.\n",
    "\n",
    "TODO:\n",
    "* Create data stucture that containsa game\n",
    "* Plot a grid on which the game can be played\n",
    "* Create the ability to play moves"
   ]
  },
  {
   "cell_type": "markdown",
   "metadata": {},
   "source": [
    "## Drawing the Board"
   ]
  },
  {
   "cell_type": "code",
   "execution_count": 1,
   "metadata": {},
   "outputs": [],
   "source": [
    "import matplotlib.pyplot as plt\n",
    "import numpy as np\n",
    "import pandas as pd"
   ]
  },
  {
   "cell_type": "markdown",
   "metadata": {},
   "source": [
    "## Elements of a board:\n",
    "1. Its size\n",
    "1. The lines\n",
    "1. The shaded squares\n",
    "1. A lack of axes and such"
   ]
  },
  {
   "cell_type": "code",
   "execution_count": 2,
   "metadata": {},
   "outputs": [],
   "source": [
    "width = 11 #[squares]. width of grid. Should be odd\n",
    "height = 11 #[squares] height of grid. should be odd\n",
    "gridcolor = 'black'\n",
    "try:\n",
    "    assert width%2==1 and height%2==1\n",
    "except:\n",
    "    display(\"The inputs for width and height must be odd integers\")"
   ]
  },
  {
   "cell_type": "code",
   "execution_count": 3,
   "metadata": {},
   "outputs": [
    {
     "data": {
      "text/plain": [
       "Text(2.55, -4.3, '47')"
      ]
     },
     "execution_count": 3,
     "metadata": {},
     "output_type": "execute_result"
    },
    {
     "data": {
      "image/png": "[encoded data removed]",
      "text/plain": [
       "<Figure size 432x288 with 1 Axes>"
      ]
     },
     "metadata": {},
     "output_type": "display_data"
    }
   ],
   "source": [
    "fig, ax = plt.subplots()\n",
    "# Control size of figure\n",
    "ax.set_xlim(-width/2, width/2)\n",
    "ax.set_ylim(-height/2, height/2)\n",
    "ax.set_aspect(1)\n",
    "\n",
    "## Hide original Axes and labels\n",
    "for side in['top','right','left','bottom']:\n",
    "    ax.spines[side].set_visible(False)\n",
    "ax.tick_params(axis='both',\n",
    "               which='both',\n",
    "               bottom=False,\n",
    "               top=False,\n",
    "               labelbottom=False,\n",
    "               labelleft=False,\n",
    "               left=False,\n",
    "               right=False)\n",
    "## Drawing the grid lines\n",
    "for x in np.arange(-width/2,width/2+1):\n",
    "    ax.axvline(x, color = gridcolor)\n",
    "for y in np.arange(-height/2,height/2+1):\n",
    "    ax.axhline(y, color = gridcolor)\n",
    "\n",
    "## Drawing the grid squares\n",
    "for x in np.arange(-width/2, width/2):\n",
    "    for y in np.arange(-height/2, height/2):\n",
    "        if (np.abs(x+0.5)+np.abs(y+0.5))%2==1:\n",
    "            rect = plt.Rectangle((x,y),1,1, alpha=0.2, color = 'black')\n",
    "            ax.add_artist(rect)\n",
    "            \n",
    "## Draw axes for reference\n",
    "ax.axhline(0,color = gridcolor)\n",
    "ax.axvline(0,color= gridcolor)\n",
    "            \n",
    "## Draw a number in the specified square\n",
    "x,y = (2,3)\n",
    "x_1dcomp = -0.3\n",
    "y_1dcomp = -0.2\n",
    "# Draw a one-digit number\n",
    "ax.text(x+x_1dcomp,y+y_1dcomp, '4', color = 'black', size=14)\n",
    "# Draw a two-digit number\n",
    "x,y = -3,-2\n",
    "x_2dcomp = -0.4\n",
    "y_2dcomp = -0.3\n",
    "ax.text(x+x_2dcomp,y+y_2dcomp, '47', color = 'black', size=14,alpha=1)\n",
    "# Draw a red two-digit number\n",
    "x,y = 3,-4\n",
    "x_2dcomp = -0.45\n",
    "y_2dcomp = -0.3\n",
    "ax.text(x+x_2dcomp,y+y_2dcomp, '47', color = 'red', size=14,alpha=1)"
   ]
  },
  {
   "cell_type": "markdown",
   "metadata": {},
   "source": [
    "## Storing a game's data"
   ]
  },
  {
   "cell_type": "markdown",
   "metadata": {},
   "source": [
    "A game is simply a series of moves, and each move consists of:\n",
    "1. The location of the move\n",
    "1. The number played\n",
    "1. The color of the player for any particular move.\n",
    "Though the color of each move alternates, and the number played can be calculated from the previous, we will not put such limitations on the game data itself, allowing us to generate arbitrary game situations.\n",
    "Mostly out of a love of DataFrames, that is what I will use to store game data."
   ]
  },
  {
   "cell_type": "code",
   "execution_count": 4,
   "metadata": {},
   "outputs": [],
   "source": [
    "class game():\n",
    "    df_template = pd.DataFrame({'marker':[],\n",
    "                               'x_loc':[],\n",
    "                               'y_loc':[],\n",
    "                               'player':[]})\n",
    "    def __init__(self):\n",
    "        self.df = self.df_template.copy(deep=True)\n",
    "    def manual_move(self,mark, x_loc, y_loc, player):\n",
    "        new_row= self.df_template.copy(deep=True)\n",
    "        new_row.marker = [int(mark)]\n",
    "        new_row.x_loc = [int(x_loc)]\n",
    "        new_row.y_loc = [int(y_loc)]\n",
    "        new_row.player = [player]\n",
    "        print(new_row)\n",
    "        self.df = pd.concat([self.df,new_row])\n",
    "        "
   ]
  },
  {
   "cell_type": "code",
   "execution_count": 5,
   "metadata": {},
   "outputs": [],
   "source": [
    "g = game()"
   ]
  },
  {
   "cell_type": "code",
   "execution_count": 6,
   "metadata": {},
   "outputs": [
    {
     "data": {
      "text/html": [
       "<div>\n",
       "<style scoped>\n",
       "    .dataframe tbody tr th:only-of-type {\n",
       "        vertical-align: middle;\n",
       "    }\n",
       "\n",
       "    .dataframe tbody tr th {\n",
       "        vertical-align: top;\n",
       "    }\n",
       "\n",
       "    .dataframe thead th {\n",
       "        text-align: right;\n",
       "    }\n",
       "</style>\n",
       "<table border=\"1\" class=\"dataframe\">\n",
       "  <thead>\n",
       "    <tr style=\"text-align: right;\">\n",
       "      <th></th>\n",
       "      <th>marker</th>\n",
       "      <th>x_loc</th>\n",
       "      <th>y_loc</th>\n",
       "      <th>player</th>\n",
       "    </tr>\n",
       "  </thead>\n",
       "  <tbody>\n",
       "  </tbody>\n",
       "</table>\n",
       "</div>"
      ],
      "text/plain": [
       "Empty DataFrame\n",
       "Columns: [marker, x_loc, y_loc, player]\n",
       "Index: []"
      ]
     },
     "execution_count": 6,
     "metadata": {},
     "output_type": "execute_result"
    }
   ],
   "source": [
    "g.df"
   ]
  },
  {
   "cell_type": "code",
   "execution_count": 7,
   "metadata": {},
   "outputs": [
    {
     "name": "stdout",
     "output_type": "stream",
     "text": [
      "   marker  x_loc  y_loc player\n",
      "0       1      0      0  black\n"
     ]
    }
   ],
   "source": [
    "g.manual_move(1,0,0,'black')"
   ]
  },
  {
   "cell_type": "code",
   "execution_count": 8,
   "metadata": {},
   "outputs": [
    {
     "data": {
      "text/html": [
       "<div>\n",
       "<style scoped>\n",
       "    .dataframe tbody tr th:only-of-type {\n",
       "        vertical-align: middle;\n",
       "    }\n",
       "\n",
       "    .dataframe tbody tr th {\n",
       "        vertical-align: top;\n",
       "    }\n",
       "\n",
       "    .dataframe thead th {\n",
       "        text-align: right;\n",
       "    }\n",
       "</style>\n",
       "<table border=\"1\" class=\"dataframe\">\n",
       "  <thead>\n",
       "    <tr style=\"text-align: right;\">\n",
       "      <th></th>\n",
       "      <th>marker</th>\n",
       "      <th>x_loc</th>\n",
       "      <th>y_loc</th>\n",
       "      <th>player</th>\n",
       "    </tr>\n",
       "  </thead>\n",
       "  <tbody>\n",
       "    <tr>\n",
       "      <th>0</th>\n",
       "      <td>1.0</td>\n",
       "      <td>0.0</td>\n",
       "      <td>0.0</td>\n",
       "      <td>black</td>\n",
       "    </tr>\n",
       "  </tbody>\n",
       "</table>\n",
       "</div>"
      ],
      "text/plain": [
       "   marker  x_loc  y_loc player\n",
       "0     1.0    0.0    0.0  black"
      ]
     },
     "execution_count": 8,
     "metadata": {},
     "output_type": "execute_result"
    }
   ],
   "source": [
    "g.df"
   ]
  },
  {
   "cell_type": "code",
   "execution_count": 9,
   "metadata": {},
   "outputs": [],
   "source": [
    "df = game.df_template.copy(deep=True)"
   ]
  },
  {
   "cell_type": "code",
   "execution_count": 10,
   "metadata": {},
   "outputs": [
    {
     "data": {
      "text/html": [
       "<div>\n",
       "<style scoped>\n",
       "    .dataframe tbody tr th:only-of-type {\n",
       "        vertical-align: middle;\n",
       "    }\n",
       "\n",
       "    .dataframe tbody tr th {\n",
       "        vertical-align: top;\n",
       "    }\n",
       "\n",
       "    .dataframe thead th {\n",
       "        text-align: right;\n",
       "    }\n",
       "</style>\n",
       "<table border=\"1\" class=\"dataframe\">\n",
       "  <thead>\n",
       "    <tr style=\"text-align: right;\">\n",
       "      <th></th>\n",
       "      <th>marker</th>\n",
       "      <th>x_loc</th>\n",
       "      <th>y_loc</th>\n",
       "      <th>player</th>\n",
       "    </tr>\n",
       "  </thead>\n",
       "  <tbody>\n",
       "  </tbody>\n",
       "</table>\n",
       "</div>"
      ],
      "text/plain": [
       "Empty DataFrame\n",
       "Columns: [marker, x_loc, y_loc, player]\n",
       "Index: []"
      ]
     },
     "execution_count": 10,
     "metadata": {},
     "output_type": "execute_result"
    }
   ],
   "source": [
    "df\n"
   ]
  },
  {
   "cell_type": "code",
   "execution_count": null,
   "metadata": {},
   "outputs": [],
   "source": []
  }
 ],
 "metadata": {
  "hide_input": false,
  "kernelspec": {
   "display_name": "Python 3",
   "language": "python",
   "name": "python3"
  },
  "language_info": {
   "codemirror_mode": {
    "name": "ipython",
    "version": 3
   },
   "file_extension": ".py",
   "mimetype": "text/x-python",
   "name": "python",
   "nbconvert_exporter": "python",
   "pygments_lexer": "ipython3",
   "version": "3.8.3"
  },
  "toc": {
   "base_numbering": 1,
   "nav_menu": {},
   "number_sections": true,
   "sideBar": true,
   "skip_h1_title": false,
   "title_cell": "Table of Contents",
   "title_sidebar": "Contents",
   "toc_cell": false,
   "toc_position": {},
   "toc_section_display": true,
   "toc_window_display": false
  },
  "varInspector": {
   "cols": {
    "lenName": 16,
    "lenType": 16,
    "lenVar": 40
   },
   "kernels_config": {
    "python": {
     "delete_cmd_postfix": "",
     "delete_cmd_prefix": "del ",
     "library": "var_list.py",
     "varRefreshCmd": "print(var_dic_list())"
    },
    "r": {
     "delete_cmd_postfix": ") ",
     "delete_cmd_prefix": "rm(",
     "library": "var_list.r",
     "varRefreshCmd": "cat(var_dic_list()) "
    }
   },
   "types_to_exclude": [
    "module",
    "function",
    "builtin_function_or_method",
    "instance",
    "_Feature"
   ],
   "window_display": false
  }
 },
 "nbformat": 4,
 "nbformat_minor": 4
}
